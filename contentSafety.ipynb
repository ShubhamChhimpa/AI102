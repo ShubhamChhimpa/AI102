{
 "cells": [
  {
   "cell_type": "code",
   "execution_count": 1,
   "metadata": {},
   "outputs": [
    {
     "name": "stderr",
     "output_type": "stream",
     "text": [
      "/Users/shubham_chhimpa/Library/Python/3.9/lib/python/site-packages/urllib3/__init__.py:35: NotOpenSSLWarning: urllib3 v2 only supports OpenSSL 1.1.1+, currently the 'ssl' module is compiled with 'LibreSSL 2.8.3'. See: https://github.com/urllib3/urllib3/issues/3020\n",
      "  warnings.warn(\n"
     ]
    }
   ],
   "source": [
    "import requests"
   ]
  },
  {
   "cell_type": "code",
   "execution_count": 9,
   "metadata": {},
   "outputs": [],
   "source": [
    "\n",
    "subscription_key = \"77r9aRmgPXfdADxIeP1E3b7s0SFfSq7w3CaidIDmo3gZLJVQnQDQJQQJ99BBAC4f1cMXJ3w3AAAAACOG0lUh\"\n",
    "endpoint = \"https://aiservice-all.services.ai.azure.com/\""
   ]
  },
  {
   "cell_type": "code",
   "execution_count": 10,
   "metadata": {},
   "outputs": [],
   "source": [
    "text_to_analyze = \"happy\""
   ]
  },
  {
   "cell_type": "code",
   "execution_count": 11,
   "metadata": {},
   "outputs": [
    {
     "name": "stdout",
     "output_type": "stream",
     "text": [
      "Analysis result: {'protectedMaterialAnalysis': {'detected': False}}\n"
     ]
    }
   ],
   "source": [
    "# Set up the API request\n",
    "url = f\"{endpoint}/contentsafety/text:detectProtectedMaterial?api-version=2024-09-01\"        \n",
    "headers = {\n",
    "  \"Content-Type\": \"application/json\",\n",
    "  \"Ocp-Apim-Subscription-Key\": subscription_key\n",
    "}\n",
    "data = {\n",
    "  \"text\": text_to_analyze\n",
    "}\n",
    "\n",
    "# Send the API request\n",
    "response = requests.post(url, headers=headers, json=data)\n",
    "\n",
    "# Handle the API response\n",
    "if response.status_code == 200:\n",
    "    result = response.json()\n",
    "    print(\"Analysis result:\", result)\n",
    "else:\n",
    "    print(\"Error:\", response.status_code, response.text)"
   ]
  },
  {
   "cell_type": "code",
   "execution_count": null,
   "metadata": {},
   "outputs": [],
   "source": []
  }
 ],
 "metadata": {
  "kernelspec": {
   "display_name": "Python 3",
   "language": "python",
   "name": "python3"
  },
  "language_info": {
   "codemirror_mode": {
    "name": "ipython",
    "version": 3
   },
   "file_extension": ".py",
   "mimetype": "text/x-python",
   "name": "python",
   "nbconvert_exporter": "python",
   "pygments_lexer": "ipython3",
   "version": "3.9.6"
  }
 },
 "nbformat": 4,
 "nbformat_minor": 2
}
