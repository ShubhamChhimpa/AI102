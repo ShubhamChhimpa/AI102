{
 "cells": [
  {
   "cell_type": "code",
   "execution_count": null,
   "metadata": {},
   "outputs": [],
   "source": [
    "%pip install azure-ai-vision-imageanalysis==1.0.0b3"
   ]
  },
  {
   "cell_type": "code",
   "execution_count": null,
   "metadata": {},
   "outputs": [],
   "source": [
    "from azure.ai.vision.imageanalysis import ImageAnalysisClient\n",
    "from azure.ai.vision.imageanalysis.models import VisualFeatures\n",
    "from azure.core.credentials import AzureKeyCredential\n",
    "import sys"
   ]
  },
  {
   "cell_type": "code",
   "execution_count": null,
   "metadata": {},
   "outputs": [],
   "source": [
    "# Authenticate Azure AI Vision client\n",
    "cv_client = ImageAnalysisClient(\n",
    "    endpoint='###',\n",
    "    credential=AzureKeyCredential('###')\n",
    ")"
   ]
  },
  {
   "cell_type": "code",
   "execution_count": null,
   "metadata": {},
   "outputs": [],
   "source": [
    "# Get image\n",
    "image_file = 'building.jpg'\n",
    "with open(image_file, \"rb\") as f:\n",
    "    image_data = f.read()"
   ]
  },
  {
   "cell_type": "code",
   "execution_count": null,
   "metadata": {},
   "outputs": [],
   "source": [
    "result = cv_client.analyze(\n",
    "    image_data=image_data,\n",
    "    visual_features=[\n",
    "        VisualFeatures.CAPTION,\n",
    "        VisualFeatures.DENSE_CAPTIONS,\n",
    "        VisualFeatures.TAGS,\n",
    "        VisualFeatures.OBJECTS,\n",
    "        VisualFeatures.PEOPLE],\n",
    ")"
   ]
  },
  {
   "cell_type": "code",
   "execution_count": null,
   "metadata": {},
   "outputs": [],
   "source": [
    "if result.caption is not None:\n",
    "    print(\"\\nCaption:\")\n",
    "    print(\" Caption: '{}' (confidence: {:.2f}%)\".format(result.caption.text, result.caption.confidence * 100))\n",
    "\n",
    "# Get image dense captions\n",
    "if result.dense_captions is not None:\n",
    "    print(\"\\nDense Captions:\")\n",
    "    for caption in result.dense_captions.list:\n",
    "        print(\" Caption: '{}' (confidence: {:.2f}%)\".format(caption.text, caption.confidence * 100))\n",
    "    \n",
    "# Get image tags\n",
    "if result.tags is not None:\n",
    "    print(\"\\nTags:\")\n",
    "    for tag in result.tags.list:\n",
    "        print(\" Tag: '{}' (confidence: {:.2f}%)\".format(tag.name, tag.confidence * 100))"
   ]
  },
  {
   "cell_type": "code",
   "execution_count": null,
   "metadata": {},
   "outputs": [],
   "source": [
    "from PIL import Image, ImageDraw\n",
    "from matplotlib import pyplot as plt\n"
   ]
  },
  {
   "cell_type": "code",
   "execution_count": null,
   "metadata": {},
   "outputs": [],
   "source": [
    "# Get objects in the image\n",
    "if result.objects is not None:\n",
    "    print(\"\\nObjects in image:\")\n",
    "\n",
    "    # Prepare image for drawing\n",
    "    image = Image.open('person.jpg')\n",
    "    fig = plt.figure(figsize=(image.width/100, image.height/100))\n",
    "    plt.axis('off')\n",
    "    draw = ImageDraw.Draw(image)\n",
    "    color = 'cyan'\n",
    "\n",
    "    for detected_object in result.objects.list:\n",
    "        # Print object name\n",
    "        print(\" {} (confidence: {:.2f}%)\".format(detected_object.tags[0].name, detected_object.tags[0].confidence * 100))\n",
    "        \n",
    "        # Draw object bounding box\n",
    "        r = detected_object.bounding_box\n",
    "        bounding_box = ((r.x, r.y), (r.x + r.width, r.y + r.height)) \n",
    "        draw.rectangle(bounding_box, outline=color, width=3)\n",
    "        plt.annotate(detected_object.tags[0].name,(r.x, r.y), backgroundcolor=color)\n",
    "\n",
    "    # Save annotated image\n",
    "    plt.imshow(image)\n",
    "    plt.tight_layout(pad=0)\n",
    "    outputfile = 'objects.jpg'\n",
    "    fig.savefig(outputfile)\n",
    "    print('  Results saved in', outputfile)"
   ]
  },
  {
   "cell_type": "code",
   "execution_count": null,
   "metadata": {},
   "outputs": [],
   "source": []
  }
 ],
 "metadata": {
  "kernelspec": {
   "display_name": "Python 3",
   "language": "python",
   "name": "python3"
  },
  "language_info": {
   "codemirror_mode": {
    "name": "ipython",
    "version": 3
   },
   "file_extension": ".py",
   "mimetype": "text/x-python",
   "name": "python",
   "nbconvert_exporter": "python",
   "pygments_lexer": "ipython3",
   "version": "3.9.6"
  }
 },
 "nbformat": 4,
 "nbformat_minor": 2
}
